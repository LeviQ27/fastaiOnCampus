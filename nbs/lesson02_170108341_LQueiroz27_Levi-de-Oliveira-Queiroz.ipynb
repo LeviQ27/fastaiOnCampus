{
 "cells": [
  {
   "attachments": {},
   "cell_type": "markdown",
   "metadata": {},
   "source": [
    "# Artigo 2: Deploy do Modelo de Aprendizado de Máquina Trabalhado No Artigo \"Identificar o que é jogo de tiro e jogo de futebol\" \n",
    "\n",
    "## Autor\n",
    "- **Levi de Oliveira Queiroz**\n",
    "- **Matrícula: 170108341**\n",
    "- **GitHub: LeviQ27**\n",
    "\n",
    "## Objetivo \n",
    "\n",
    "O objetivo do presente trabalho é demonstrar a criação de um exemplo de um aplicativo visual de computação do modelo de aprendizado de máquina produzido no artigo 1, com algumas alterações em sua linha de código. Demonstrando também o Deploy do modelo em um aplicativo web. Isso aplicando os conhecimentos adquiridos na lição 2 \"From Model to Production\".\n",
    "\n",
    "## Desenvolvimento \n",
    "\n",
    "O projeto estará compilando uma diferença entre jogo de tiro, jogo de futebol e, de forma adicional, jogo de fantasia. E tem-se uma coleção de imagens na internet para poder processar os dados. Assim, usando a função ```search_images_ddg``` da biblioteca ```duckduckgo_search```, foi adicionado algumas url's de imagen de jogo de fantasia. \n",
    "\n",
    "Contudo, para ser iniciado a busca pela url, foi instalado a biblioteca biblioteca do ```fastbook``` seguindo a diretriz do livro criado pelo seu Howard:"
   ]
  },
  {
   "cell_type": "code",
   "execution_count": 1,
   "metadata": {},
   "outputs": [
    {
     "name": "stdout",
     "output_type": "stream",
     "text": [
      "Note: you may need to restart the kernel to use updated packages.\n"
     ]
    }
   ],
   "source": [
    "%pip install -Uqq fastbook"
   ]
  },
  {
   "cell_type": "code",
   "execution_count": 2,
   "metadata": {},
   "outputs": [],
   "source": [
    "import fastbook\n",
    "fastbook.setup_book()\n",
    "\n",
    "from fastbook import *\n",
    "from fastai.vision.widgets import *"
   ]
  },
  {
   "attachments": {},
   "cell_type": "markdown",
   "metadata": {},
   "source": [
    "Em seguida, é definido a função ```search_images_ddg```:"
   ]
  },
  {
   "cell_type": "code",
   "execution_count": 3,
   "metadata": {},
   "outputs": [
    {
     "data": {
      "text/plain": [
       "<function fastbook.search_images_ddg(term, max_images=200)>"
      ]
     },
     "execution_count": 3,
     "metadata": {},
     "output_type": "execute_result"
    }
   ],
   "source": [
    "search_images_ddg"
   ]
  },
  {
   "attachments": {},
   "cell_type": "markdown",
   "metadata": {},
   "source": [
    "Em seguida, a função ```search_images_ddg``` vai baixar algumas url's de imagem de jogo de fantasia para a variável ```ims```:"
   ]
  },
  {
   "cell_type": "code",
   "execution_count": 4,
   "metadata": {},
   "outputs": [
    {
     "data": {
      "text/plain": [
       "200"
      ]
     },
     "execution_count": 4,
     "metadata": {},
     "output_type": "execute_result"
    }
   ],
   "source": [
    "ims = search_images_ddg('fantasy game')\n",
    "len(ims)"
   ]
  },
  {
   "attachments": {},
   "cell_type": "markdown",
   "metadata": {},
   "source": [
    "Certo, a funçao ```search_images_ddg``` baixou 200 url's de imagens de jogo de fantasia. Em seguida, é verificado uma imagem das url's baixadas, para verificar se a função funcionou como foi ordenada:"
   ]
  },
  {
   "cell_type": "code",
   "execution_count": 5,
   "metadata": {},
   "outputs": [
    {
     "data": {
      "text/plain": [
       "Path('images/fantasygame.jpg')"
      ]
     },
     "execution_count": 5,
     "metadata": {},
     "output_type": "execute_result"
    }
   ],
   "source": [
    "dest = 'images/fantasygame.jpg'\n",
    "download_url(ims[0], dest, show_progress=False)"
   ]
  },
  {
   "attachments": {},
   "cell_type": "markdown",
   "metadata": {},
   "source": [
    "Agora, depois de selecionado uma url, é verificado a imagem:\n",
    "\n",
    "> Note que é criado uma varial que recebe a visualização da imagem e essa imagem através do ```to_thumb``` é redimensionada."
   ]
  },
  {
   "cell_type": "code",
   "execution_count": 6,
   "metadata": {},
   "outputs": [
    {
     "data": {
      "image/png": "[encoded data removed]",
      "text/plain": [
       "<PIL.Image.Image image mode=RGB size=128x72>"
      ]
     },
     "execution_count": 6,
     "metadata": {},
     "output_type": "execute_result"
    }
   ],
   "source": [
    "im = Image.open(dest)\n",
    "im.to_thumb(128,128)"
   ]
  },
  {
   "attachments": {},
   "cell_type": "markdown",
   "metadata": {},
   "source": [
    "Observado que a função retornou dentro do esperado, é usando a função ```download_images``` para trazer as imagens, através de suas url's, necessárias para a continuação do presente trabalho, em que será puxado as url\"s de jogos de tiro, futebol e fantasia:\n",
    "\n",
    "> Note que as imagens ficaram em pastas separadas"
   ]
  },
  {
   "cell_type": "code",
   "execution_count": 7,
   "metadata": {},
   "outputs": [],
   "source": [
    "game_types = 'shooting videogame','soccer videogame','fantasy videogame'\n",
    "path = Path('games')"
   ]
  },
  {
   "cell_type": "code",
   "execution_count": 8,
   "metadata": {},
   "outputs": [],
   "source": [
    "if not path.exists():\n",
    "    path.mkdir()\n",
    "    for o in game_types:\n",
    "        dest = (path/o)\n",
    "        dest.mkdir(exist_ok=True)\n",
    "        results = search_images_ddg(f'{o} image')\n",
    "        download_images(dest, urls=results)"
   ]
  },
  {
   "attachments": {},
   "cell_type": "markdown",
   "metadata": {},
   "source": [
    "Assim como foi observado, foi criado a pasta ```games``` em que há as três subpastas com as imagens:\n",
    "\n",
    "> É utilizado a função ```get_image_files``` para olhar o caminho das imagens baixadas nos arquivos"
   ]
  },
  {
   "cell_type": "code",
   "execution_count": 9,
   "metadata": {},
   "outputs": [
    {
     "data": {
      "text/plain": [
       "(#539) [Path('games/soccer videogame/65ccf37b-8ac0-452c-8a69-b1b676eaf33f.jpg'),Path('games/soccer videogame/e9f8b788-44fb-4240-ab53-7f375d31e1b9.jpg'),Path('games/soccer videogame/90f76c0d-3193-4712-9fde-ad317051216e.jpg'),Path('games/soccer videogame/48cc5d6b-c4d5-4400-9a7a-fa491e4aa826.png'),Path('games/soccer videogame/a94e2503-9d1d-4039-92b4-73b553d8c3dd.jpg'),Path('games/soccer videogame/81dc6eb6-725e-4bf3-a123-b489b6946a7a.jpg'),Path('games/soccer videogame/43c77951-ace0-4831-8e29-5279cd43dd3a.jpg'),Path('games/soccer videogame/c6229e05-e067-4c19-a0ca-fc90cd6346af.jpg'),Path('games/soccer videogame/2453eab2-8d32-4204-82ba-75d684600464.jpg'),Path('games/soccer videogame/490cae92-f195-4bf2-8cde-77db232b3bfb.jpg')...]"
      ]
     },
     "execution_count": 9,
     "metadata": {},
     "output_type": "execute_result"
    }
   ],
   "source": [
    "fns = get_image_files(path)\n",
    "fns"
   ]
  }
 ],
 "metadata": {
  "kernelspec": {
   "display_name": "Python 3 (ipykernel)",
   "language": "python",
   "name": "python3"
  },
  "language_info": {
   "codemirror_mode": {
    "name": "ipython",
    "version": 3
   },
   "file_extension": ".py",
   "mimetype": "text/x-python",
   "name": "python",
   "nbconvert_exporter": "python",
   "pygments_lexer": "ipython3",
   "version": "3.10.6"
  },
  "orig_nbformat": 4
 },
 "nbformat": 4,
 "nbformat_minor": 2
}
