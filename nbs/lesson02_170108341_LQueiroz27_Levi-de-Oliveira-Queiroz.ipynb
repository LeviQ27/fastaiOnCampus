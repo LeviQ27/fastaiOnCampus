{
 "cells": [
  {
   "attachments": {},
   "cell_type": "markdown",
   "metadata": {},
   "source": [
    "# Artigo 2: Deploy do Modelo de Aprendizado de Máquina Trabalhado No Artigo \"Identificar o que é jogo de tiro e jogo de futebol\" \n",
    "\n",
    "## Autor\n",
    "- **Levi de Oliveira Queiroz**\n",
    "- **Matrícula: 170108341**\n",
    "- **GitHub: LeviQ27**\n",
    "\n",
    "## Objetivo \n",
    "\n",
    "O objetivo do presente trabalho é demonstrar a criação de um exemplo de um aplicativo visual de computação do modelo de aprendizado de máquina produzido no artigo 1, com algumas alterações em sua linha de código. Demonstrando também o Deploy do modelo em um aplicativo online. Isso aplicando os conhecimentos adquiridos na lição 2 \"From Model to Production\".\n",
    "\n",
    "## Inferência\n",
    "\n",
    "Como parte do escopo do artigo, segue as referências do curso de Aprendizagem de Máquina do *fast.ai*, a referência do aplicativo entregue no site *HuggingFace* e o link do notebook separado para testar o modelo criado neste presente trabalho.\n",
    "\n",
    "- Curso *fast.ai* Capítulo 2: https://course.fast.ai/Lessons/lesson2.html\n",
    "\n",
    "- Aplicativo rodando no *HuggingFace*: https://huggingface.co/spaces/L27Queiroz/Lesson2\n",
    "\n",
    "- Jupyter Notebook usado para gerar o aplicativo Python: [ImageClassifier.ipynb](ImageClassifier.ipynb)\n",
    "\n",
    "## Desenvolvimento \n",
    "\n",
    "O projeto estará compilando uma diferença entre jogo de tiro, jogo de futebol e, de forma adicional, jogo de fantasia. E tem-se uma coleção de imagens na internet para poder processar os dados. Assim, usando a função ```search_images_ddg``` da biblioteca ```duckduckgo_search```, foi adicionado algumas url's de imagen de jogo de fantasia. \n",
    "\n",
    "Contudo, para ser iniciado a busca pela url, foi instalado a do ```fastbook``` seguindo a diretriz do livro criado pelo seu Howard:"
   ]
  },
  {
   "cell_type": "code",
   "execution_count": null,
   "metadata": {},
   "outputs": [],
   "source": [
    "%pip install -Uqq fastbook"
   ]
  },
  {
   "cell_type": "code",
   "execution_count": null,
   "metadata": {},
   "outputs": [],
   "source": [
    "import fastbook\n",
    "fastbook.setup_book()\n",
    "\n",
    "from fastbook import *\n",
    "from fastai.vision.widgets import *"
   ]
  },
  {
   "attachments": {},
   "cell_type": "markdown",
   "metadata": {},
   "source": [
    "Em seguida, é definido a função ```search_images_ddg```:"
   ]
  },
  {
   "cell_type": "code",
   "execution_count": null,
   "metadata": {},
   "outputs": [],
   "source": [
    "search_images_ddg"
   ]
  },
  {
   "attachments": {},
   "cell_type": "markdown",
   "metadata": {},
   "source": [
    "Em seguida, a função ```search_images_ddg``` vai baixar algumas url's de imagem de jogo de fantasia para a variável ```ims```:"
   ]
  },
  {
   "cell_type": "code",
   "execution_count": null,
   "metadata": {},
   "outputs": [],
   "source": [
    "ims = search_images_ddg('fantasy game')\n",
    "len(ims)"
   ]
  },
  {
   "attachments": {},
   "cell_type": "markdown",
   "metadata": {},
   "source": [
    "Certo, a funçao ```search_images_ddg``` baixou ~200 url's de imagens de jogo de fantasia. Em seguida, é verificado uma imagem das url's baixadas, para verificar se a função funcionou como foi ordenada:"
   ]
  },
  {
   "cell_type": "code",
   "execution_count": null,
   "metadata": {},
   "outputs": [],
   "source": [
    "dest = 'images/fantasygame.jpg'\n",
    "download_url(ims[0], dest, show_progress=False)"
   ]
  },
  {
   "attachments": {},
   "cell_type": "markdown",
   "metadata": {},
   "source": [
    "Agora, depois de selecionado uma url, é verificado a imagem:"
   ]
  },
  {
   "cell_type": "code",
   "execution_count": null,
   "metadata": {},
   "outputs": [],
   "source": [
    "im = Image.open(dest)\n",
    "im.to_thumb(128,128)"
   ]
  },
  {
   "attachments": {},
   "cell_type": "markdown",
   "metadata": {},
   "source": [
    "> Note que é criado uma varial que recebe a visualização da imagem e essa imagem através do ```to_thumb``` é redimensionada.\n",
    "\n",
    "Observado que a função retornou dentro do esperado, é usando a função ```download_images``` para trazer as imagens, através de suas url's, necessárias para a continuação do presente trabalho, em que será puxado as url\"s de jogos de tiro, futebol e fantasia:"
   ]
  },
  {
   "cell_type": "code",
   "execution_count": null,
   "metadata": {},
   "outputs": [],
   "source": [
    "game_types = 'shooting game','soccer game','fantasy game'\n",
    "path = Path('games')"
   ]
  },
  {
   "cell_type": "code",
   "execution_count": null,
   "metadata": {},
   "outputs": [],
   "source": [
    "if not path.exists():\n",
    "    path.mkdir()\n",
    "    for o in game_types:\n",
    "        dest = (path/o)\n",
    "        dest.mkdir(exist_ok=True)\n",
    "        results = search_images_ddg(f'{o} videogame')\n",
    "        download_images(dest, urls=results)"
   ]
  },
  {
   "attachments": {},
   "cell_type": "markdown",
   "metadata": {},
   "source": [
    "> Note que as imagens ficaram em pastas separadas\n",
    "\n",
    "Assim como foi observado, foi criado a pasta ```games``` em que há as três subpastas com as imagens:"
   ]
  },
  {
   "cell_type": "code",
   "execution_count": null,
   "metadata": {},
   "outputs": [],
   "source": [
    "fns = get_image_files(path)\n",
    "fns"
   ]
  },
  {
   "attachments": {},
   "cell_type": "markdown",
   "metadata": {},
   "source": [
    "> É utilizado a função ```get_image_files``` para olhar o caminho das imagens baixadas nos arquivos\n",
    "\n",
    "Como é observado, é possível encontrar o caminho dos dados que são necessários para o andamento do projeto. Agora, é de conhecimento comum que quando se baixa imagens da internet algumas imagens acabam ficando corrompidas. Então para verificar e remover as imagens que estão corrompidas, é usado a função ```verify_images``` para verificar a condição das imagens, ```unlink``` para remover as imagens e como essa função retorna um objeto, isso inclui o método ```map``` que será usado para encontrar a localização das figuras:"
   ]
  },
  {
   "cell_type": "code",
   "execution_count": null,
   "metadata": {},
   "outputs": [],
   "source": [
    "failed = verify_images(fns)\n",
    "failed"
   ]
  },
  {
   "attachments": {},
   "cell_type": "markdown",
   "metadata": {},
   "source": [
    "> Note que das ~539 imagens baixadas, ~30 delas deram resultado negativo, ou seja, estão corrompidas."
   ]
  },
  {
   "cell_type": "code",
   "execution_count": null,
   "metadata": {},
   "outputs": [],
   "source": [
    "failed.map(Path.unlink);"
   ]
  },
  {
   "attachments": {},
   "cell_type": "markdown",
   "metadata": {},
   "source": [
    "Com o processo de filtro de imagens corrompidas completo, é iniciado o processo de construção do treino para o modelo de aprendizagem de máquina. Para isso é usado a classe ```DataLoader```, essa classe permite que dados sejam transformados em treino e validação. É uma classe importante pois ela monta os dados para o modelo de aprendizagem de máquina.\n",
    "\n",
    "E para montar e customizar o ```DataLoader``` é utilizado um sistema flexivel do fastai chamado *data block API*:"
   ]
  },
  {
   "cell_type": "code",
   "execution_count": null,
   "metadata": {},
   "outputs": [],
   "source": [
    "games = DataBlock(\n",
    "    blocks=(ImageBlock, CategoryBlock),\n",
    "    get_items = get_image_files,\n",
    "    splitter = RandomSplitter(valid_pct=0.2, seed=42),\n",
    "    get_y = parent_label,\n",
    "    item_tfms=Resize(128)\n",
    ")"
   ]
  },
  {
   "attachments": {},
   "cell_type": "markdown",
   "metadata": {},
   "source": [
    "Com o ```DataBlock``` montado, basta montar o ```DataLoader```:"
   ]
  },
  {
   "cell_type": "code",
   "execution_count": null,
   "metadata": {},
   "outputs": [],
   "source": [
    "dls = games.dataloaders(path)"
   ]
  },
  {
   "attachments": {},
   "cell_type": "markdown",
   "metadata": {},
   "source": [
    "Para mostrar se o ```DataLoader``` funcionou, é usado o método ```show_batch``` que vai apresentar um número *n* de imagens pedidas:"
   ]
  },
  {
   "cell_type": "code",
   "execution_count": null,
   "metadata": {},
   "outputs": [],
   "source": [
    "dls.valid.show_batch(max_n=12, nrows=3)"
   ]
  },
  {
   "attachments": {},
   "cell_type": "markdown",
   "metadata": {},
   "source": [
    "No capítulo 2 do livro do seu Howard é explicado varias formas de se organizar e customizar o ```Dataloader```, porém não será apresentado no presente trabalho.\n",
    "\n",
    "## Treinando o Modelo e o Usando para Limpar Seus Dados\n",
    "\n",
    "Certo, como é possível ver nas imagens anteriores, algumas imagens não correspondem com o que é esperado. Sendo assim, existe uma forma de treinar e corrigir o modelo de aprendizagem de máquina.\n",
    "\n",
    "Iniciando pelo treino:"
   ]
  },
  {
   "cell_type": "code",
   "execution_count": null,
   "metadata": {},
   "outputs": [],
   "source": [
    "games = games.new(\n",
    "    item_tfms=RandomResizedCrop(224, min_scale=0.5),\n",
    "    batch_tfms=aug_transforms()\n",
    ")\n",
    "\n",
    "dls = games.dataloaders(path)"
   ]
  },
  {
   "attachments": {},
   "cell_type": "markdown",
   "metadata": {},
   "source": [
    "Agora, é criado o ```Learner``` e aprimorando no caminho usual:"
   ]
  },
  {
   "cell_type": "code",
   "execution_count": null,
   "metadata": {},
   "outputs": [],
   "source": [
    "learn = vision_learner(dls, resnet18, metrics=error_rate)\n",
    "learn.fine_tune(4)"
   ]
  },
  {
   "attachments": {},
   "cell_type": "markdown",
   "metadata": {},
   "source": [
    "Com o treino completo, é bom visualizar a taixa de erro, pois o modelo pode errar achando que uma imagem do jogo é de um tipo sendo que não é. Assim, é utilizado uma *matriz de confusão* para visualizar os erros:"
   ]
  },
  {
   "cell_type": "code",
   "execution_count": null,
   "metadata": {},
   "outputs": [],
   "source": [
    "interp = ClassificationInterpretation.from_learner(learn)\n",
    "interp.plot_confusion_matrix()"
   ]
  },
  {
   "attachments": {},
   "cell_type": "markdown",
   "metadata": {},
   "source": [
    "Foi observado quem em alguns casos o modelo ficou confuso sobre certas imagens. E para observamos as *perdas* que teve nessa confusão, é usado o método ```plot_top_losses``` que vai apresentar as maiores *perdas*, sendo por erro mesmo ou por desconfiança do modelo."
   ]
  },
  {
   "cell_type": "code",
   "execution_count": null,
   "metadata": {},
   "outputs": [],
   "source": [
    "interp.plot_top_losses(5, nrows=5)"
   ]
  },
  {
   "attachments": {},
   "cell_type": "markdown",
   "metadata": {},
   "source": [
    "> No caso, todos os 5 *top_losses* foram por erros\n",
    "\n",
    "Agora, o *fastai* suporta um GUI para limpeza de dados chamado ```ImageClassifierCleaner``` que permite a escolha da categoria e de construção treino x validação. Usando essa função: "
   ]
  },
  {
   "cell_type": "code",
   "execution_count": null,
   "metadata": {},
   "outputs": [],
   "source": [
    "cleaner = ImageClassifierCleaner(learn)\n",
    "cleaner"
   ]
  },
  {
   "attachments": {},
   "cell_type": "markdown",
   "metadata": {},
   "source": [
    "Assim para aplicar as mudanças, será utilizado:"
   ]
  },
  {
   "cell_type": "code",
   "execution_count": null,
   "metadata": {},
   "outputs": [],
   "source": [
    "shooting = 'games/shooting game'\n",
    "soccer = 'games/soccer game'\n",
    "fantasy = 'games/fantasy game'\n",
    "\n",
    "for idx in cleaner.delete(): cleaner.fns[idx].unlink()\n",
    "for idx,shooting in cleaner.change(): shutil.move(str(cleaner.fns[idx]), path/shooting)\n",
    "for idx,soccer in cleaner.change(): shutil.move(str(cleaner.fns[idx]), path/soccer)\n",
    "for idx,fantasy in cleaner.change(): shutil.move(str(cleaner.fns[idx]), path/fantasy)"
   ]
  },
  {
   "attachments": {},
   "cell_type": "markdown",
   "metadata": {},
   "source": [
    "Depois de treinado o modelo, seguindo o livro do seu Howard, será feito o deploy do modelo em uma aplicativo online.\n",
    "\n",
    "## Transformando seu Modelo em um Aplicativo OnLine\n",
    "\n",
    "Para isso, foi exportado o modelo feito nos tópicos anteriores:"
   ]
  },
  {
   "cell_type": "code",
   "execution_count": null,
   "metadata": {},
   "outputs": [],
   "source": [
    "learn.export()"
   ]
  },
  {
   "attachments": {},
   "cell_type": "markdown",
   "metadata": {},
   "source": [
    "E é verificado a existência de um arquivo *.pkl*:"
   ]
  },
  {
   "cell_type": "code",
   "execution_count": null,
   "metadata": {},
   "outputs": [],
   "source": [
    "path = Path()\n",
    "path.ls(file_exts='.pkl')"
   ]
  },
  {
   "attachments": {},
   "cell_type": "markdown",
   "metadata": {},
   "source": [
    "Verificado a existência do artefato, foi criado outro repositório no *HuggingFace* para o deploy do aplicativo. Foi construido um outro notebook onde foi importando o modelo treinado.\n",
    "\n",
    "Logo abaixo está localizado o notebook criado para produzir o aplicativo Python para rodar no *HuggingFace*:\n",
    "\n",
    "[Image Classifier](ImageClassifier.ipynb)\n",
    "\n",
    "Segue o link do repositório do aplicativo no *HuggingFace*:\n",
    "\n",
    "[Lesson 2 - *HuggingFace* Space Model](https://huggingface.co/spaces/L27Queiroz/Lesson2)\n",
    "\n",
    "## Conclusão\n",
    "\n",
    "Foi uma experiência diferente usar o *HuggingFace* para fazer deploy de aplicação. Durante o projeto tive também algumas experiências negativas como conflito de versões de bibliotecas do python, a falta de explicação de *build* no ambiente do *HuggingFace* utilizando o arquivo *requirements.txt*, conflito não resolvido com a biblioteca nbdev.export com o atributo notebook2script, em que ainda não foi resolvido para ter a autogeração do artefato *app.py* direto do notebook. Ainda assim, tendo problema na resolução final do aplicativo no HuggingFace, em que não está acertando o tipo de jogo através dos exemplos inseridos nele."
   ]
  }
 ],
 "metadata": {
  "kernelspec": {
   "display_name": "Python 3 (ipykernel)",
   "language": "python",
   "name": "python3"
  },
  "language_info": {
   "codemirror_mode": {
    "name": "ipython",
    "version": 3
   },
   "file_extension": ".py",
   "mimetype": "text/x-python",
   "name": "python",
   "nbconvert_exporter": "python",
   "pygments_lexer": "ipython3",
   "version": "3.10.6"
  },
  "orig_nbformat": 4
 },
 "nbformat": 4,
 "nbformat_minor": 2
}
