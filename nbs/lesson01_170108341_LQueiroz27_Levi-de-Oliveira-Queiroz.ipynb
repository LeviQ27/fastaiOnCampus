{
 "cells": [
  {
   "attachments": {},
   "cell_type": "markdown",
   "metadata": {},
   "source": [
    "# Identificar o que é jogo de tiro e jogo de futebol\n",
    "\n",
    "## Autor\n",
    "\n",
    "- Levi de Oliveira Queiroz\n",
    "- Matrícula: 170108341\n",
    "- GitHub: LeviQ27\n",
    "\n",
    "## Objetivo\n",
    "\n",
    "O propósito do presente artigo é aplicar os conhecimentos adquiridos na lição 1 *Getting Started* do **Fast.ai** e montar um modelo de deep learning que identifica imagens de jogos de tiro e jogos de futebol\n",
    "\n",
    "## Preparação\n",
    "\n",
    "Antes de ser iniciado o passo a passo da identificação, é preciso instalar algumas dependencias como o *DuckDuckGo* *search* e o *fastai*."
   ]
  },
  {
   "cell_type": "code",
   "execution_count": null,
   "metadata": {},
   "outputs": [],
   "source": [
    "%pip install -U duckduckgo_search\n",
    "%pip install -U fastai"
   ]
  },
  {
   "attachments": {},
   "cell_type": "markdown",
   "metadata": {},
   "source": [
    "Certo, com as dependências instaladas, vai ser iniciado o passo a passo da construção e aplicação do modelo de deep learning.\n",
    "\n",
    "## Passo 1: Baixar as imagens de jogos de tiro e futebol\n",
    "\n",
    "Para o primeiro passo, foi escrito o código que serviŕa de instalador das imagens usando o *ddg_images* do *DuckDcukGo*:"
   ]
  },
  {
   "cell_type": "code",
   "execution_count": null,
   "metadata": {},
   "outputs": [],
   "source": [
    "from duckduckgo_search import ddg_images\n",
    "from fastcore.all import *\n",
    "\n",
    "def search_images(term, max_images=30):\n",
    "    print(f\"Searching for '{term}'\")\n",
    "    return L(ddg_images(term, max_results=max_images)).itemgot('image')"
   ]
  },
  {
   "attachments": {},
   "cell_type": "markdown",
   "metadata": {},
   "source": [
    "Para testar se as fotos foram recebidas, vai ser recebido uma URL de uma image de jogo de tiro pela função de pesquisa:"
   ]
  },
  {
   "cell_type": "code",
   "execution_count": null,
   "metadata": {},
   "outputs": [],
   "source": [
    "urls = search_images(\"Shooting games\", max_images=1)\n",
    "urls[0]"
   ]
  },
  {
   "attachments": {},
   "cell_type": "markdown",
   "metadata": {},
   "source": [
    "Agora será feito o download da imagem pela URL:"
   ]
  },
  {
   "cell_type": "code",
   "execution_count": null,
   "metadata": {},
   "outputs": [],
   "source": [
    "from fastdownload import download_url\n",
    "dest = 'shooting_game.jpg'\n",
    "download_url(urls[0], dest, show_progress=False)\n",
    "\n",
    "from fastai.vision.all import *\n",
    "im = Image.open(dest)\n",
    "im.to_thumb(256,256)"
   ]
  },
  {
   "attachments": {},
   "cell_type": "markdown",
   "metadata": {},
   "source": [
    "Será realizado o download também para a foto do jogo de futebol:"
   ]
  },
  {
   "cell_type": "code",
   "execution_count": null,
   "metadata": {},
   "outputs": [],
   "source": [
    "download_url(search_images('soccer videogame images', max_images=1)[0], 'soccer_game.jpg', show_progress=False)\n",
    "Image.open('soccer_game.jpg').to_thumb(256,256)"
   ]
  },
  {
   "attachments": {},
   "cell_type": "markdown",
   "metadata": {},
   "source": [
    "Com isso, foi observado que a função *search_images* está entregando o retorno esperado do que foi aplicado para fazer. Assim, é trazido uma pequena parcela de fotos de tanto de jogos de tiro como de futebol e salvo cada uma em diferentes pastas de arquivo. Uma obesrvação é que é usado a função *sleep* para não haver dificuldades no tráfego de dados:"
   ]
  },
  {
   "cell_type": "code",
   "execution_count": null,
   "metadata": {},
   "outputs": [],
   "source": [
    "searches = 'shooting game', 'soccer videogame'\n",
    "path = Path('shooting_or_soccer')\n",
    "from time import sleep\n",
    "\n",
    "for o in searches:\n",
    "    dest = (path/o)\n",
    "    dest.mkdir(exist_ok=True, parents=True)\n",
    "    download_images(dest, urls=search_images(f'{o} image'))\n",
    "    sleep(10)\n",
    "    download_images(dest, urls=search_images(f'{o} 2006 image'))\n",
    "    sleep(10)\n",
    "    download_images(dest, urls=search_images(f'{o} 2010 image'))\n",
    "    sleep(10)\n",
    "    resize_images(path/o, max_size=400, dest=path/o)"
   ]
  },
  {
   "attachments": {},
   "cell_type": "markdown",
   "metadata": {},
   "source": [
    "Como as funções anteriores estão apresentando o funcionamento esperado para elas, é dado sequência no paso a passo da construção do modelo.\n",
    "\n",
    "## Passo 2: Treinando o Modelo\n",
    "\n",
    "Nesse passo será feito o treino do modelo para realizar a tarefa de identificar qual imagem é um jogo de tiro e um jogo de futebol. \n",
    "\n",
    "Na sequência, é sabio perceber que algumas imagens não são baixadas corretamente, o que pode ocasionar na falha do treino do modelo, então com o seguinte código é removido essas imagens mal baixadas:"
   ]
  },
  {
   "cell_type": "code",
   "execution_count": null,
   "metadata": {},
   "outputs": [],
   "source": [
    "failed = verify_images(get_image_files(path))\n",
    "failed.map(Path.unlink)\n",
    "len(failed)"
   ]
  },
  {
   "attachments": {},
   "cell_type": "markdown",
   "metadata": {},
   "source": [
    "Feito isso, será treinado o modelo de deep learning. Para tal, é preciso do *DataLoaders*, que é um objeto que contém uma \"sequência de treino\", que são as imagens usadas para criar um modelo, e uma \"sequência de validação\", que são as imagens usadas para checar o quão certo é o modelo não usado durante o treino. Usando o *fastai* é possível criar esse treino de maneira fácil, consumindo pouca memória, usando a função *DataBlock*, que mostra também exemplos de imagen retornadas da função:"
   ]
  },
  {
   "cell_type": "code",
   "execution_count": null,
   "metadata": {},
   "outputs": [],
   "source": [
    "dls = DataBlock(\n",
    "    blocks=(ImageBlock, CategoryBlock),\n",
    "    get_items=get_image_files,\n",
    "    splitter=RandomSplitter(valid_pct=0.2, seed=42),\n",
    "    get_y=parent_label,\n",
    "    item_tfms=[Resize(192, method='squish')]\n",
    ").dataloaders(path, bs=32)\n",
    "\n",
    "dls.show_batch(max_n=12)"
   ]
  },
  {
   "attachments": {},
   "cell_type": "markdown",
   "metadata": {},
   "source": [
    "Agora, todos os preparatios estão feitos para treino o modelo de deep learning. A arquitetura de conecção de computação mais utilizado é o *resnet18* que é o que vai ser utilizado como base de aprendizado do modelo. O *fastai* vem com uma função *fine_tune()* que automaticamente usa as boas-práticas de afiar um modelo pré-treinado, o que é bastante útil."
   ]
  },
  {
   "cell_type": "code",
   "execution_count": null,
   "metadata": {},
   "outputs": [],
   "source": [
    "learn = vision_learner(dls, resnet18, metrics=error_rate)\n",
    "learn.fine_tune(3)"
   ]
  },
  {
   "attachments": {},
   "cell_type": "markdown",
   "metadata": {},
   "source": [
    "Com isso, é seguido para o terceiro e último passo.\n",
    "\n",
    "## Passo 3: Uso do Modelo\n",
    "\n",
    "Com o modelo treinado, será testado como o modelo pensa sobre a imagem do jogo de tiro que foi baixado no início deste presente artigo:"
   ]
  },
  {
   "cell_type": "code",
   "execution_count": null,
   "metadata": {},
   "outputs": [],
   "source": [
    "is_shooting_game_image,_,probs = learn.predict(PILImage.create('shooting_game.jpg'))\n",
    "print(f\"This is a: {is_shooting_game_image}.\")\n",
    "print(f\"Probability it's a shooting game image: {probs[0]:.4f}\")"
   ]
  },
  {
   "attachments": {},
   "cell_type": "markdown",
   "metadata": {},
   "source": [
    "## Conclusão\n",
    "\n",
    "Nessa lição foi mostrado como que o uso de modelos de aprendizagem de máquina alterou o cotidiano das pessoas, como tarefas e atividades se tornaram triviais e fáceis de serem resolvidas por uma máuqina ou um sistema. A lição introduz o aluno no universo que é a aprendizagem de máquina, iniciando pelo modelo de identificação de imagens, porém esse modelo também serve para outras funcionalidades, essa abragência move a criatividade daquele que está aprendendo a como modelar e assim, construir modelos que vão transformar atividades que seriam complicadas para máquina e para o humano em tarefas triviais. Foi apresentado ao aluno ferramentas que facilitam o aprendizado e a construção dos modelos, como o notebook Jupyter com linguagem Python, utilizando de ferramentas que deixam o processo de treino de modelo eficiente e simples."
   ]
  }
 ],
 "metadata": {
  "kernelspec": {
   "display_name": "Python 3",
   "language": "python",
   "name": "python3"
  },
  "language_info": {
   "codemirror_mode": {
    "name": "ipython",
    "version": 3
   },
   "file_extension": ".py",
   "mimetype": "text/x-python",
   "name": "python",
   "nbconvert_exporter": "python",
   "pygments_lexer": "ipython3",
   "version": "3.10.6"
  },
  "orig_nbformat": 4
 },
 "nbformat": 4,
 "nbformat_minor": 2
}
